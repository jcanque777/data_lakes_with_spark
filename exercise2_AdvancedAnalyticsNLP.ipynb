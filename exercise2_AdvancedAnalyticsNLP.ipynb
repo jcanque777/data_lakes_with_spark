{
 "cells": [
  {
   "cell_type": "markdown",
   "metadata": {},
   "source": [
    "# Exercise 2: Advanced Analytics NLP"
   ]
  },
  {
   "cell_type": "code",
   "execution_count": null,
   "metadata": {
    "ExecuteTime": {
     "end_time": "2018-12-04T16:28:12.472305Z",
     "start_time": "2018-12-04T16:27:10.886061Z"
    }
   },
   "outputs": [],
   "source": [
    "!pip install spark-nlp==1.7.3"
   ]
  },
  {
   "cell_type": "code",
   "execution_count": 1,
   "metadata": {
    "ExecuteTime": {
     "end_time": "2018-12-04T16:28:14.748410Z",
     "start_time": "2018-12-04T16:28:14.342555Z"
    }
   },
   "outputs": [],
   "source": [
    "import pandas as pd\n",
    "pd.set_option('max_colwidth', 800)"
   ]
  },
  {
   "cell_type": "markdown",
   "metadata": {},
   "source": [
    "# Create a spark context that includes a 3rd party jar for NLP"
   ]
  },
  {
   "cell_type": "code",
   "execution_count": 3,
   "metadata": {},
   "outputs": [],
   "source": [
    "import findspark"
   ]
  },
  {
   "cell_type": "code",
   "execution_count": 4,
   "metadata": {},
   "outputs": [],
   "source": [
    "findspark.init(\"/usr/local/Cellar/apache-spark/3.0.1/libexec\")"
   ]
  },
  {
   "cell_type": "code",
   "execution_count": 5,
   "metadata": {
    "ExecuteTime": {
     "end_time": "2018-12-04T16:28:35.841869Z",
     "start_time": "2018-12-04T16:28:31.934985Z"
    }
   },
   "outputs": [],
   "source": [
    "from pyspark.sql import SparkSession"
   ]
  },
  {
   "cell_type": "code",
   "execution_count": 6,
   "metadata": {
    "ExecuteTime": {
     "end_time": "2018-12-04T16:28:35.841869Z",
     "start_time": "2018-12-04T16:28:31.934985Z"
    }
   },
   "outputs": [
    {
     "data": {
      "text/html": [
       "\n",
       "            <div>\n",
       "                <p><b>SparkSession - in-memory</b></p>\n",
       "                \n",
       "        <div>\n",
       "            <p><b>SparkContext</b></p>\n",
       "\n",
       "            <p><a href=\"http://johns-mbp-3:4041\">Spark UI</a></p>\n",
       "\n",
       "            <dl>\n",
       "              <dt>Version</dt>\n",
       "                <dd><code>v3.0.1</code></dd>\n",
       "              <dt>Master</dt>\n",
       "                <dd><code>local[*]</code></dd>\n",
       "              <dt>AppName</dt>\n",
       "                <dd><code>pyspark-shell</code></dd>\n",
       "            </dl>\n",
       "        </div>\n",
       "        \n",
       "            </div>\n",
       "        "
      ],
      "text/plain": [
       "<pyspark.sql.session.SparkSession at 0x7fd88e9ab510>"
      ]
     },
     "execution_count": 6,
     "metadata": {},
     "output_type": "execute_result"
    }
   ],
   "source": [
    "spark = SparkSession.builder \\\n",
    "    .config(\"spark.jars.packages\", \"JohnSnowLabs:spark-nlp:1.8.2\") \\\n",
    "    .getOrCreate()\n",
    "spark"
   ]
  },
  {
   "cell_type": "markdown",
   "metadata": {},
   "source": [
    "# Read multiple files in a dir as one Dataframe"
   ]
  },
  {
   "cell_type": "code",
   "execution_count": 7,
   "metadata": {},
   "outputs": [
    {
     "name": "stdout",
     "output_type": "stream",
     "text": [
      "4_data_wrangling.ipynb                bootstrap_emr.sh\r\n",
      "7_data_wrangling-sql.ipynb            exercise2_AdvancedAnalyticsNLP.ipynb\r\n",
      "Exercise_1_SchemaOnRead.ipynb         reddit-worldnews.json\r\n",
      "Exercise_Creating_EMR_Clusters        spark-cluster.pem\r\n",
      "NASA_access_log_Jul95.gz              \u001b[34mspark-warehouse\u001b[m\u001b[m/\r\n",
      "README.md                             sparkify_log_small.json\r\n",
      "Untitled.ipynb\r\n"
     ]
    }
   ],
   "source": [
    "ls"
   ]
  },
  {
   "cell_type": "code",
   "execution_count": 8,
   "metadata": {
    "ExecuteTime": {
     "end_time": "2018-12-04T16:28:40.343540Z",
     "start_time": "2018-12-04T16:28:35.844308Z"
    }
   },
   "outputs": [
    {
     "name": "stdout",
     "output_type": "stream",
     "text": [
      "100\n",
      "root\n",
      " |-- data: struct (nullable = true)\n",
      " |    |-- approved_at_utc: string (nullable = true)\n",
      " |    |-- approved_by: string (nullable = true)\n",
      " |    |-- archived: boolean (nullable = true)\n",
      " |    |-- author: string (nullable = true)\n",
      " |    |-- author_flair_background_color: string (nullable = true)\n",
      " |    |-- author_flair_css_class: string (nullable = true)\n",
      " |    |-- author_flair_richtext: array (nullable = true)\n",
      " |    |    |-- element: string (containsNull = true)\n",
      " |    |-- author_flair_template_id: string (nullable = true)\n",
      " |    |-- author_flair_text: string (nullable = true)\n",
      " |    |-- author_flair_text_color: string (nullable = true)\n",
      " |    |-- author_flair_type: string (nullable = true)\n",
      " |    |-- author_fullname: string (nullable = true)\n",
      " |    |-- author_patreon_flair: boolean (nullable = true)\n",
      " |    |-- banned_at_utc: string (nullable = true)\n",
      " |    |-- banned_by: string (nullable = true)\n",
      " |    |-- can_gild: boolean (nullable = true)\n",
      " |    |-- can_mod_post: boolean (nullable = true)\n",
      " |    |-- category: string (nullable = true)\n",
      " |    |-- clicked: boolean (nullable = true)\n",
      " |    |-- content_categories: string (nullable = true)\n",
      " |    |-- contest_mode: boolean (nullable = true)\n",
      " |    |-- created: double (nullable = true)\n",
      " |    |-- created_utc: double (nullable = true)\n",
      " |    |-- crosspost_parent: string (nullable = true)\n",
      " |    |-- crosspost_parent_list: array (nullable = true)\n",
      " |    |    |-- element: struct (containsNull = true)\n",
      " |    |    |    |-- approved_at_utc: string (nullable = true)\n",
      " |    |    |    |-- approved_by: string (nullable = true)\n",
      " |    |    |    |-- archived: boolean (nullable = true)\n",
      " |    |    |    |-- author: string (nullable = true)\n",
      " |    |    |    |-- author_flair_background_color: string (nullable = true)\n",
      " |    |    |    |-- author_flair_css_class: string (nullable = true)\n",
      " |    |    |    |-- author_flair_richtext: array (nullable = true)\n",
      " |    |    |    |    |-- element: string (containsNull = true)\n",
      " |    |    |    |-- author_flair_template_id: string (nullable = true)\n",
      " |    |    |    |-- author_flair_text: string (nullable = true)\n",
      " |    |    |    |-- author_flair_text_color: string (nullable = true)\n",
      " |    |    |    |-- author_flair_type: string (nullable = true)\n",
      " |    |    |    |-- author_fullname: string (nullable = true)\n",
      " |    |    |    |-- author_patreon_flair: boolean (nullable = true)\n",
      " |    |    |    |-- banned_at_utc: string (nullable = true)\n",
      " |    |    |    |-- banned_by: string (nullable = true)\n",
      " |    |    |    |-- can_gild: boolean (nullable = true)\n",
      " |    |    |    |-- can_mod_post: boolean (nullable = true)\n",
      " |    |    |    |-- category: string (nullable = true)\n",
      " |    |    |    |-- clicked: boolean (nullable = true)\n",
      " |    |    |    |-- content_categories: string (nullable = true)\n",
      " |    |    |    |-- contest_mode: boolean (nullable = true)\n",
      " |    |    |    |-- created: double (nullable = true)\n",
      " |    |    |    |-- created_utc: double (nullable = true)\n",
      " |    |    |    |-- distinguished: string (nullable = true)\n",
      " |    |    |    |-- domain: string (nullable = true)\n",
      " |    |    |    |-- downs: long (nullable = true)\n",
      " |    |    |    |-- edited: boolean (nullable = true)\n",
      " |    |    |    |-- gilded: long (nullable = true)\n",
      " |    |    |    |-- gildings: struct (nullable = true)\n",
      " |    |    |    |    |-- gid_1: long (nullable = true)\n",
      " |    |    |    |    |-- gid_2: long (nullable = true)\n",
      " |    |    |    |    |-- gid_3: long (nullable = true)\n",
      " |    |    |    |-- hidden: boolean (nullable = true)\n",
      " |    |    |    |-- hide_score: boolean (nullable = true)\n",
      " |    |    |    |-- id: string (nullable = true)\n",
      " |    |    |    |-- is_crosspostable: boolean (nullable = true)\n",
      " |    |    |    |-- is_meta: boolean (nullable = true)\n",
      " |    |    |    |-- is_original_content: boolean (nullable = true)\n",
      " |    |    |    |-- is_reddit_media_domain: boolean (nullable = true)\n",
      " |    |    |    |-- is_robot_indexable: boolean (nullable = true)\n",
      " |    |    |    |-- is_self: boolean (nullable = true)\n",
      " |    |    |    |-- is_video: boolean (nullable = true)\n",
      " |    |    |    |-- likes: string (nullable = true)\n",
      " |    |    |    |-- link_flair_background_color: string (nullable = true)\n",
      " |    |    |    |-- link_flair_css_class: string (nullable = true)\n",
      " |    |    |    |-- link_flair_richtext: array (nullable = true)\n",
      " |    |    |    |    |-- element: string (containsNull = true)\n",
      " |    |    |    |-- link_flair_template_id: string (nullable = true)\n",
      " |    |    |    |-- link_flair_text: string (nullable = true)\n",
      " |    |    |    |-- link_flair_text_color: string (nullable = true)\n",
      " |    |    |    |-- link_flair_type: string (nullable = true)\n",
      " |    |    |    |-- locked: boolean (nullable = true)\n",
      " |    |    |    |-- media: string (nullable = true)\n",
      " |    |    |    |-- media_only: boolean (nullable = true)\n",
      " |    |    |    |-- mod_note: string (nullable = true)\n",
      " |    |    |    |-- mod_reason_by: string (nullable = true)\n",
      " |    |    |    |-- mod_reason_title: string (nullable = true)\n",
      " |    |    |    |-- mod_reports: array (nullable = true)\n",
      " |    |    |    |    |-- element: string (containsNull = true)\n",
      " |    |    |    |-- name: string (nullable = true)\n",
      " |    |    |    |-- no_follow: boolean (nullable = true)\n",
      " |    |    |    |-- num_comments: long (nullable = true)\n",
      " |    |    |    |-- num_crossposts: long (nullable = true)\n",
      " |    |    |    |-- num_reports: string (nullable = true)\n",
      " |    |    |    |-- over_18: boolean (nullable = true)\n",
      " |    |    |    |-- parent_whitelist_status: string (nullable = true)\n",
      " |    |    |    |-- permalink: string (nullable = true)\n",
      " |    |    |    |-- pinned: boolean (nullable = true)\n",
      " |    |    |    |-- pwls: long (nullable = true)\n",
      " |    |    |    |-- quarantine: boolean (nullable = true)\n",
      " |    |    |    |-- removal_reason: string (nullable = true)\n",
      " |    |    |    |-- report_reasons: string (nullable = true)\n",
      " |    |    |    |-- saved: boolean (nullable = true)\n",
      " |    |    |    |-- score: long (nullable = true)\n",
      " |    |    |    |-- secure_media: string (nullable = true)\n",
      " |    |    |    |-- selftext: string (nullable = true)\n",
      " |    |    |    |-- selftext_html: string (nullable = true)\n",
      " |    |    |    |-- send_replies: boolean (nullable = true)\n",
      " |    |    |    |-- spoiler: boolean (nullable = true)\n",
      " |    |    |    |-- stickied: boolean (nullable = true)\n",
      " |    |    |    |-- subreddit: string (nullable = true)\n",
      " |    |    |    |-- subreddit_id: string (nullable = true)\n",
      " |    |    |    |-- subreddit_name_prefixed: string (nullable = true)\n",
      " |    |    |    |-- subreddit_subscribers: long (nullable = true)\n",
      " |    |    |    |-- subreddit_type: string (nullable = true)\n",
      " |    |    |    |-- suggested_sort: string (nullable = true)\n",
      " |    |    |    |-- thumbnail: string (nullable = true)\n",
      " |    |    |    |-- title: string (nullable = true)\n",
      " |    |    |    |-- ups: long (nullable = true)\n",
      " |    |    |    |-- url: string (nullable = true)\n",
      " |    |    |    |-- user_reports: array (nullable = true)\n",
      " |    |    |    |    |-- element: string (containsNull = true)\n",
      " |    |    |    |-- view_count: string (nullable = true)\n",
      " |    |    |    |-- visited: boolean (nullable = true)\n",
      " |    |    |    |-- whitelist_status: string (nullable = true)\n",
      " |    |    |    |-- wls: long (nullable = true)\n",
      " |    |-- distinguished: string (nullable = true)\n",
      " |    |-- domain: string (nullable = true)\n",
      " |    |-- downs: long (nullable = true)\n",
      " |    |-- edited: boolean (nullable = true)\n",
      " |    |-- gilded: long (nullable = true)\n",
      " |    |-- gildings: struct (nullable = true)\n",
      " |    |    |-- gid_1: long (nullable = true)\n",
      " |    |    |-- gid_2: long (nullable = true)\n",
      " |    |    |-- gid_3: long (nullable = true)\n",
      " |    |-- hidden: boolean (nullable = true)\n",
      " |    |-- hide_score: boolean (nullable = true)\n",
      " |    |-- id: string (nullable = true)\n",
      " |    |-- is_crosspostable: boolean (nullable = true)\n",
      " |    |-- is_meta: boolean (nullable = true)\n",
      " |    |-- is_original_content: boolean (nullable = true)\n",
      " |    |-- is_reddit_media_domain: boolean (nullable = true)\n",
      " |    |-- is_robot_indexable: boolean (nullable = true)\n",
      " |    |-- is_self: boolean (nullable = true)\n",
      " |    |-- is_video: boolean (nullable = true)\n",
      " |    |-- likes: string (nullable = true)\n",
      " |    |-- link_flair_background_color: string (nullable = true)\n",
      " |    |-- link_flair_css_class: string (nullable = true)\n",
      " |    |-- link_flair_richtext: array (nullable = true)\n",
      " |    |    |-- element: string (containsNull = true)\n",
      " |    |-- link_flair_template_id: string (nullable = true)\n",
      " |    |-- link_flair_text: string (nullable = true)\n",
      " |    |-- link_flair_text_color: string (nullable = true)\n",
      " |    |-- link_flair_type: string (nullable = true)\n",
      " |    |-- locked: boolean (nullable = true)\n",
      " |    |-- media: string (nullable = true)\n",
      " |    |-- media_only: boolean (nullable = true)\n",
      " |    |-- mod_note: string (nullable = true)\n",
      " |    |-- mod_reason_by: string (nullable = true)\n",
      " |    |-- mod_reason_title: string (nullable = true)\n",
      " |    |-- mod_reports: array (nullable = true)\n",
      " |    |    |-- element: string (containsNull = true)\n",
      " |    |-- name: string (nullable = true)\n",
      " |    |-- no_follow: boolean (nullable = true)\n",
      " |    |-- num_comments: long (nullable = true)\n",
      " |    |-- num_crossposts: long (nullable = true)\n",
      " |    |-- num_reports: string (nullable = true)\n",
      " |    |-- over_18: boolean (nullable = true)\n",
      " |    |-- parent_whitelist_status: string (nullable = true)\n",
      " |    |-- permalink: string (nullable = true)\n",
      " |    |-- pinned: boolean (nullable = true)\n",
      " |    |-- pwls: long (nullable = true)\n",
      " |    |-- quarantine: boolean (nullable = true)\n",
      " |    |-- removal_reason: string (nullable = true)\n",
      " |    |-- report_reasons: string (nullable = true)\n",
      " |    |-- saved: boolean (nullable = true)\n",
      " |    |-- score: long (nullable = true)\n",
      " |    |-- secure_media: string (nullable = true)\n",
      " |    |-- selftext: string (nullable = true)\n",
      " |    |-- selftext_html: string (nullable = true)\n",
      " |    |-- send_replies: boolean (nullable = true)\n",
      " |    |-- spoiler: boolean (nullable = true)\n",
      " |    |-- stickied: boolean (nullable = true)\n",
      " |    |-- subreddit: string (nullable = true)\n",
      " |    |-- subreddit_id: string (nullable = true)\n",
      " |    |-- subreddit_name_prefixed: string (nullable = true)\n",
      " |    |-- subreddit_subscribers: long (nullable = true)\n",
      " |    |-- subreddit_type: string (nullable = true)\n",
      " |    |-- suggested_sort: string (nullable = true)\n",
      " |    |-- thumbnail: string (nullable = true)\n",
      " |    |-- title: string (nullable = true)\n",
      " |    |-- ups: long (nullable = true)\n",
      " |    |-- url: string (nullable = true)\n",
      " |    |-- user_reports: array (nullable = true)\n",
      " |    |    |-- element: string (containsNull = true)\n",
      " |    |-- view_count: string (nullable = true)\n",
      " |    |-- visited: boolean (nullable = true)\n",
      " |    |-- whitelist_status: string (nullable = true)\n",
      " |    |-- wls: long (nullable = true)\n",
      " |-- kind: string (nullable = true)\n",
      "\n"
     ]
    }
   ],
   "source": [
    "dataPath = \"reddit-worldnews.json\"\n",
    "df = spark.read.json(dataPath)\n",
    "print(df.count())\n",
    "df.printSchema()"
   ]
  },
  {
   "cell_type": "markdown",
   "metadata": {},
   "source": [
    "# Deal with Struct type to query subfields "
   ]
  },
  {
   "cell_type": "code",
   "execution_count": 9,
   "metadata": {
    "ExecuteTime": {
     "end_time": "2018-12-04T16:28:40.819564Z",
     "start_time": "2018-12-04T16:28:40.345335Z"
    }
   },
   "outputs": [],
   "source": [
    "title = \"data.title\"\n",
    "author = \"data.author\""
   ]
  },
  {
   "cell_type": "code",
   "execution_count": 10,
   "metadata": {
    "ExecuteTime": {
     "end_time": "2018-12-04T16:28:40.819564Z",
     "start_time": "2018-12-04T16:28:40.345335Z"
    }
   },
   "outputs": [
    {
     "data": {
      "text/html": [
       "<div>\n",
       "<style scoped>\n",
       "    .dataframe tbody tr th:only-of-type {\n",
       "        vertical-align: middle;\n",
       "    }\n",
       "\n",
       "    .dataframe tbody tr th {\n",
       "        vertical-align: top;\n",
       "    }\n",
       "\n",
       "    .dataframe thead th {\n",
       "        text-align: right;\n",
       "    }\n",
       "</style>\n",
       "<table border=\"1\" class=\"dataframe\">\n",
       "  <thead>\n",
       "    <tr style=\"text-align: right;\">\n",
       "      <th></th>\n",
       "      <th>title</th>\n",
       "      <th>author</th>\n",
       "    </tr>\n",
       "  </thead>\n",
       "  <tbody>\n",
       "    <tr>\n",
       "      <td>0</td>\n",
       "      <td>Microsoft Corp said it has discovered hacking targeting democratic institutions, think tanks, and non-profit organizations in Europe.</td>\n",
       "      <td>jaykirsch</td>\n",
       "    </tr>\n",
       "    <tr>\n",
       "      <td>1</td>\n",
       "      <td>Deutsche Bank reportedly planned to extend the dates of $340 million in loans to Trump Organization to avoid a potential nightmare of chasing a sitting president for cash</td>\n",
       "      <td>canuck_burger</td>\n",
       "    </tr>\n",
       "    <tr>\n",
       "      <td>2</td>\n",
       "      <td>Iranian \"morality police\" were forced to fire warning shots when a crowd intervened to prevent them from arresting two women for not wearing a hijab. The incident occurred in Tehran's northeastern Narmak neighbourhood on Friday night, and ended with a mob tearing the door off a police vehicle.</td>\n",
       "      <td>honolulu_oahu_mod</td>\n",
       "    </tr>\n",
       "    <tr>\n",
       "      <td>3</td>\n",
       "      <td>Trump administration 'pushing Saudi nuclear deal' which could benefit company linked to Jared Kushner - Senior Trump administration officials pushed a project to share nuclear power technology with Saudi Arabia over the objections of ethics officials, according to a congressional report</td>\n",
       "      <td>madam1</td>\n",
       "    </tr>\n",
       "    <tr>\n",
       "      <td>4</td>\n",
       "      <td>NASA Happily Reports the Earth is Greener, With More Trees Than 20 Years Ago–and It's Thanks to China, India</td>\n",
       "      <td>purplexxx</td>\n",
       "    </tr>\n",
       "  </tbody>\n",
       "</table>\n",
       "</div>"
      ],
      "text/plain": [
       "                                                                                                                                                                                                                                                                                                    title  \\\n",
       "0                                                                                                                                                                   Microsoft Corp said it has discovered hacking targeting democratic institutions, think tanks, and non-profit organizations in Europe.   \n",
       "1                                                                                                                              Deutsche Bank reportedly planned to extend the dates of $340 million in loans to Trump Organization to avoid a potential nightmare of chasing a sitting president for cash   \n",
       "2  Iranian \"morality police\" were forced to fire warning shots when a crowd intervened to prevent them from arresting two women for not wearing a hijab. The incident occurred in Tehran's northeastern Narmak neighbourhood on Friday night, and ended with a mob tearing the door off a police vehicle.   \n",
       "3         Trump administration 'pushing Saudi nuclear deal' which could benefit company linked to Jared Kushner - Senior Trump administration officials pushed a project to share nuclear power technology with Saudi Arabia over the objections of ethics officials, according to a congressional report   \n",
       "4                                                                                                                                                                                            NASA Happily Reports the Earth is Greener, With More Trees Than 20 Years Ago–and It's Thanks to China, India   \n",
       "\n",
       "              author  \n",
       "0          jaykirsch  \n",
       "1      canuck_burger  \n",
       "2  honolulu_oahu_mod  \n",
       "3             madam1  \n",
       "4          purplexxx  "
      ]
     },
     "execution_count": 10,
     "metadata": {},
     "output_type": "execute_result"
    }
   ],
   "source": [
    "dfAuthorTitle = df.select(title,author)\n",
    "dfAuthorTitle.limit(5).toPandas()"
   ]
  },
  {
   "cell_type": "markdown",
   "metadata": {},
   "source": [
    "# Try to implement the equivalent of flatMap in dataframes"
   ]
  },
  {
   "cell_type": "code",
   "execution_count": 11,
   "metadata": {
    "ExecuteTime": {
     "end_time": "2018-12-04T16:28:43.068755Z",
     "start_time": "2018-12-04T16:28:40.826537Z"
    }
   },
   "outputs": [],
   "source": [
    "import pyspark.sql.functions as F"
   ]
  },
  {
   "cell_type": "code",
   "execution_count": 12,
   "metadata": {
    "ExecuteTime": {
     "end_time": "2018-12-04T16:28:43.068755Z",
     "start_time": "2018-12-04T16:28:40.826537Z"
    }
   },
   "outputs": [
    {
     "data": {
      "text/html": [
       "<div>\n",
       "<style scoped>\n",
       "    .dataframe tbody tr th:only-of-type {\n",
       "        vertical-align: middle;\n",
       "    }\n",
       "\n",
       "    .dataframe tbody tr th {\n",
       "        vertical-align: top;\n",
       "    }\n",
       "\n",
       "    .dataframe thead th {\n",
       "        text-align: right;\n",
       "    }\n",
       "</style>\n",
       "<table border=\"1\" class=\"dataframe\">\n",
       "  <thead>\n",
       "    <tr style=\"text-align: right;\">\n",
       "      <th></th>\n",
       "      <th>word</th>\n",
       "      <th>count</th>\n",
       "    </tr>\n",
       "  </thead>\n",
       "  <tbody>\n",
       "    <tr>\n",
       "      <td>0</td>\n",
       "      <td>to</td>\n",
       "      <td>58</td>\n",
       "    </tr>\n",
       "    <tr>\n",
       "      <td>1</td>\n",
       "      <td>the</td>\n",
       "      <td>46</td>\n",
       "    </tr>\n",
       "    <tr>\n",
       "      <td>2</td>\n",
       "      <td>of</td>\n",
       "      <td>42</td>\n",
       "    </tr>\n",
       "    <tr>\n",
       "      <td>3</td>\n",
       "      <td>in</td>\n",
       "      <td>41</td>\n",
       "    </tr>\n",
       "    <tr>\n",
       "      <td>4</td>\n",
       "      <td>a</td>\n",
       "      <td>25</td>\n",
       "    </tr>\n",
       "    <tr>\n",
       "      <td>5</td>\n",
       "      <td>for</td>\n",
       "      <td>20</td>\n",
       "    </tr>\n",
       "    <tr>\n",
       "      <td>6</td>\n",
       "      <td>and</td>\n",
       "      <td>19</td>\n",
       "    </tr>\n",
       "    <tr>\n",
       "      <td>7</td>\n",
       "      <td>from</td>\n",
       "      <td>12</td>\n",
       "    </tr>\n",
       "    <tr>\n",
       "      <td>8</td>\n",
       "      <td>on</td>\n",
       "      <td>11</td>\n",
       "    </tr>\n",
       "    <tr>\n",
       "      <td>9</td>\n",
       "      <td>over</td>\n",
       "      <td>10</td>\n",
       "    </tr>\n",
       "    <tr>\n",
       "      <td>10</td>\n",
       "      <td>with</td>\n",
       "      <td>10</td>\n",
       "    </tr>\n",
       "    <tr>\n",
       "      <td>11</td>\n",
       "      <td>as</td>\n",
       "      <td>9</td>\n",
       "    </tr>\n",
       "    <tr>\n",
       "      <td>12</td>\n",
       "      <td>be</td>\n",
       "      <td>8</td>\n",
       "    </tr>\n",
       "    <tr>\n",
       "      <td>13</td>\n",
       "      <td>The</td>\n",
       "      <td>8</td>\n",
       "    </tr>\n",
       "    <tr>\n",
       "      <td>14</td>\n",
       "      <td>Saudi</td>\n",
       "      <td>8</td>\n",
       "    </tr>\n",
       "  </tbody>\n",
       "</table>\n",
       "</div>"
      ],
      "text/plain": [
       "     word  count\n",
       "0      to     58\n",
       "1     the     46\n",
       "2      of     42\n",
       "3      in     41\n",
       "4       a     25\n",
       "5     for     20\n",
       "6     and     19\n",
       "7    from     12\n",
       "8      on     11\n",
       "9    over     10\n",
       "10   with     10\n",
       "11     as      9\n",
       "12     be      8\n",
       "13    The      8\n",
       "14  Saudi      8"
      ]
     },
     "execution_count": 12,
     "metadata": {},
     "output_type": "execute_result"
    }
   ],
   "source": [
    "#count words\n",
    "dfWordCount = df.select(F.explode(F.split(title, \"\\\\s+\")).alias(\"word\")).groupBy(\"word\").count().orderBy(F.desc(\"count\"))\n",
    "dfWordCount.limit(15).toPandas()"
   ]
  },
  {
   "cell_type": "markdown",
   "metadata": {},
   "source": [
    "# Use an NLP libary to do Part-of-Speech Tagging"
   ]
  },
  {
   "cell_type": "code",
   "execution_count": null,
   "metadata": {
    "ExecuteTime": {
     "end_time": "2018-12-04T16:29:10.967990Z",
     "start_time": "2018-12-04T16:28:43.072151Z"
    }
   },
   "outputs": [],
   "source": [
    "from com.johnsnowlabs.nlp.pretrained.pipeline.en import BasicPipeline as bp\n",
    "dfAnnotated = # Todo"
   ]
  },
  {
   "cell_type": "markdown",
   "metadata": {},
   "source": [
    "## Deal with Map type to query subfields"
   ]
  },
  {
   "cell_type": "code",
   "execution_count": null,
   "metadata": {
    "ExecuteTime": {
     "end_time": "2018-12-04T16:29:11.430140Z",
     "start_time": "2018-12-04T16:29:10.973865Z"
    }
   },
   "outputs": [],
   "source": [
    "dfPos = # Todo"
   ]
  },
  {
   "cell_type": "code",
   "execution_count": null,
   "metadata": {
    "ExecuteTime": {
     "end_time": "2018-12-04T16:29:12.012202Z",
     "start_time": "2018-12-04T16:29:11.432322Z"
    }
   },
   "outputs": [],
   "source": [
    "dfPos= # Todo"
   ]
  },
  {
   "cell_type": "markdown",
   "metadata": {},
   "source": [
    "## Keep only proper nouns NNP or NNPS"
   ]
  },
  {
   "cell_type": "code",
   "execution_count": null,
   "metadata": {
    "ExecuteTime": {
     "end_time": "2018-12-04T16:29:12.551881Z",
     "start_time": "2018-12-04T16:29:12.014196Z"
    }
   },
   "outputs": [],
   "source": [
    "nnpFilter = \"pos.result = 'NNP' or pos.result = 'NNPS' \"\n",
    "dfNNP = # Todo"
   ]
  },
  {
   "cell_type": "markdown",
   "metadata": {},
   "source": [
    "## Extract columns form a map in a col"
   ]
  },
  {
   "cell_type": "code",
   "execution_count": null,
   "metadata": {
    "ExecuteTime": {
     "end_time": "2018-12-04T16:29:12.811100Z",
     "start_time": "2018-12-04T16:29:12.556429Z"
    }
   },
   "outputs": [],
   "source": [
    "dfWordTag = # Todo"
   ]
  },
  {
   "cell_type": "code",
   "execution_count": null,
   "metadata": {},
   "outputs": [],
   "source": [
    "from pyspark.sql.functions import desc\n",
    "# Todo"
   ]
  }
 ],
 "metadata": {
  "kernelspec": {
   "display_name": "Python 3",
   "language": "python",
   "name": "python3"
  },
  "language_info": {
   "codemirror_mode": {
    "name": "ipython",
    "version": 3
   },
   "file_extension": ".py",
   "mimetype": "text/x-python",
   "name": "python",
   "nbconvert_exporter": "python",
   "pygments_lexer": "ipython3",
   "version": "3.7.4"
  },
  "toc": {
   "base_numbering": 1,
   "nav_menu": {
    "height": "84px",
    "width": "160px"
   },
   "number_sections": false,
   "sideBar": true,
   "skip_h1_title": false,
   "title_cell": "Table of Contents",
   "title_sidebar": "Contents",
   "toc_cell": false,
   "toc_position": {
    "height": "calc(100% - 180px)",
    "left": "10px",
    "top": "150px",
    "width": "236px"
   },
   "toc_section_display": true,
   "toc_window_display": false
  }
 },
 "nbformat": 4,
 "nbformat_minor": 2
}
